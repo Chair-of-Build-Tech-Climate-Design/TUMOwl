{
 "cells": [
  {
   "cell_type": "markdown",
   "metadata": {},
   "source": [
    "# Import "
   ]
  },
  {
   "cell_type": "code",
   "execution_count": null,
   "metadata": {},
   "outputs": [],
   "source": [
    "import pandas as pd\n",
    "import sys\n",
    "import os\n",
    "\n",
    "#import modules #REVSIIT: unnessasary for now.\n",
    "\n",
    "from modules import utils\n",
    "from modules import imports"
   ]
  },
  {
   "cell_type": "code",
   "execution_count": null,
   "metadata": {},
   "outputs": [],
   "source": [
    "# Define globally available directory paths, which can be called from \n",
    "# other notebooks.\n",
    "\n",
    "\n",
    "directory_paths = {\n",
    "    \"_directoryPathReport\": r\"report\",\n",
    "    \"_directoryPathData\": r\"data\",\n",
    "    \"_directoryPathTests\": r\"tests\"\n",
    "}\n",
    "\n",
    "\n",
    "# >>>>\n",
    "logger = utils.Logger()\n",
    "logger.reset_log() \n",
    "\n",
    "for name, path in directory_paths.items():\n",
    "    full_path = os.path.abspath(path)\n",
    "    if os.path.exists(full_path):\n",
    "        print(f\"Found directory for: {full_path}, continuing.\")\n",
    "    else:\n",
    "        print(f\"Cannot find directory for: {full_path}. Initialising it.\")\n",
    "        os.makedirs(full_path, exist_ok=True)\n",
    "\n",
    "    globals()[name] = full_path\n",
    "    %store {name}\n",
    "\n",
    "\n",
    "# Example:\n",
    "# %store -r _directoryPathReport\n",
    "# print(_directoryPathReport)\n",
    "\n",
    "# %store -r _directoryPathData\n",
    "# print(_directoryPathData)"
   ]
  },
  {
   "cell_type": "code",
   "execution_count": null,
   "metadata": {},
   "outputs": [],
   "source": [
    "# Import the results File, adjust the settings as needed:\n",
    "\n",
    "file: str = os.path.join(_directoryPathTests, \"testdata.csv\")\n",
    "config: str = r\"importDefinitions.json\"\n",
    "\n",
    "# >>>>\n",
    "importer = imports.SimulationResultsImporter(file, config, data_type='Trnsys')\n",
    "\n",
    "imports.printAvailableTypes(config)\n",
    "\n",
    "data = importer.import_file()\n",
    "display(data.head()) "
   ]
  }
 ],
 "metadata": {
  "kernelspec": {
   "display_name": "envTumOwl",
   "language": "python",
   "name": "python3"
  },
  "language_info": {
   "codemirror_mode": {
    "name": "ipython",
    "version": 3
   },
   "file_extension": ".py",
   "mimetype": "text/x-python",
   "name": "python",
   "nbconvert_exporter": "python",
   "pygments_lexer": "ipython3",
   "version": "3.10.0"
  }
 },
 "nbformat": 4,
 "nbformat_minor": 2
}
