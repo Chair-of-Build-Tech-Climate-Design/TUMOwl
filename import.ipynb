{
 "cells": [
  {
   "cell_type": "markdown",
   "metadata": {},
   "source": [
    "# Import "
   ]
  },
  {
   "cell_type": "code",
   "execution_count": 4,
   "metadata": {},
   "outputs": [],
   "source": [
    "import pandas as pd\n",
    "import sys\n",
    "import os\n",
    "\n",
    "#import modules unnessasary for now.\n",
    "\n",
    "from modules import utils"
   ]
  },
  {
   "cell_type": "code",
   "execution_count": null,
   "metadata": {},
   "outputs": [],
   "source": [
    "# ---------------------------------------------------------------------\n",
    "# Define globally available directory paths, which can be called from \n",
    "# other notebooks.\n",
    "# ---------------------------------------------------------------------\n",
    "\n",
    "directory_paths = {\n",
    "    \"_directoryPathReport\": r\"report\",\n",
    "    \"_directoryPathData\": r\"data\"\n",
    "}\n",
    "\n",
    "for name, path in directory_paths.items():\n",
    "    full_path = os.path.abspath(path)\n",
    "    if os.path.exists(full_path):\n",
    "        print(f\"Found directory for: {full_path}, continuing.\")\n",
    "    else:\n",
    "        print(f\"Cannot find directory for: {full_path}. Initialising it.\")\n",
    "        os.makedirs(full_path, exist_ok=True)\n",
    "\n",
    "    globals()[name] = full_path\n",
    "    %store {name}\n",
    "\n",
    "\n",
    "# Example:\n",
    "# %store -r _directoryPathReport\n",
    "# print(_directoryPathReport)\n",
    "\n",
    "# %store -r _directoryPathData\n",
    "# print(_directoryPathData)"
   ]
  },
  {
   "cell_type": "code",
   "execution_count": null,
   "metadata": {},
   "outputs": [],
   "source": [
    "utils.PrintLogSeperator(\"This is a placeholder.\")"
   ]
  }
 ],
 "metadata": {
  "kernelspec": {
   "display_name": "Python 3",
   "language": "python",
   "name": "python3"
  },
  "language_info": {
   "codemirror_mode": {
    "name": "ipython",
    "version": 3
   },
   "file_extension": ".py",
   "mimetype": "text/x-python",
   "name": "python",
   "nbconvert_exporter": "python",
   "pygments_lexer": "ipython3",
   "version": "3.10.0"
  }
 },
 "nbformat": 4,
 "nbformat_minor": 2
}
